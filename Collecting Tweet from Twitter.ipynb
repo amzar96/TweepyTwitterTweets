{
 "cells": [
  {
   "cell_type": "markdown",
   "metadata": {},
   "source": [
    "# COLLECT PREVIOUS TWEETS"
   ]
  },
  {
   "cell_type": "code",
   "execution_count": null,
   "metadata": {
    "collapsed": true
   },
   "outputs": [],
   "source": [
    "import tweepy\n",
    "import csv\n",
    "\n",
    "consumer_key= ''\n",
    "consumer_secret= ''\n",
    "access_token=''\n",
    "access_token_secret=''\n",
    "\n",
    "auth = tweepy.OAuthHandler(consumer_key, consumer_secret)\n",
    "auth.set_access_token(access_token, access_token_secret)\n",
    "\n",
    "api = tweepy.API(auth)\n",
    "\n",
    "try:\n",
    "    redirect_url = auth.get_authorization_url()\n",
    "except tweepy.TweepError:\n",
    "    print('Error! Failed to get request token.')\n",
    "    \n"
   ]
  },
  {
   "cell_type": "code",
   "execution_count": null,
   "metadata": {},
   "outputs": [],
   "source": [
    "csvFile = open('tweetlist.csv', 'a')\n",
    "csvWriter = csv.writer(csvFile)\n",
    "countt=0\n",
    "for tweet in tweepy.Cursor(api.search,q=[\"hujan\"],count=10,geocode=\"3.073281,101.518461,50km\").items(10):\n",
    "    csvWriter.writerow([tweet.created_at, tweet.text.encode('utf-8')])\n",
    "    print(tweet.created_at, tweet.text)\n",
    "    #print(tweet) #print with all details\n",
    "    countt+=1\n",
    "    \n",
    "print(countt)\n",
    "\n"
   ]
  },
  {
   "cell_type": "markdown",
   "metadata": {},
   "source": [
    "# STREAMING REAL TIME TWEET"
   ]
  },
  {
   "cell_type": "code",
   "execution_count": null,
   "metadata": {},
   "outputs": [],
   "source": [
    "import tweepy\n",
    "import json\n",
    "\n",
    "consumer_key= 'CHky1yfiABs1YaIGdZfK98Zhg'\n",
    "consumer_secret= 'tVBpes9lDtvC1F56ov4a4y3msUmeyMYVtVAMZ962UPi93j3uaK'\n",
    "\n",
    "access_token='966703597625815040-aiC8veIjwoIBxTXG5kPaQHCoED2ZtnF'\n",
    "access_token_secret='CqJDVqD109b14JTe3gpznBzftWNrhpioZmRLlZUbCbPKY'\n",
    "\n",
    "class PrintListener(tweepy.StreamListener):\n",
    "    def on_data(self, data):\n",
    "        # Decode the JSON data\n",
    "        tweet = json.loads(data)\n",
    "        # Print out the Tweet\n",
    "        print('@%s: %s' % (tweet['user']['screen_name'], tweet['text'].encode('ascii', 'ignore')))\n",
    "        #print('full_text:')\n",
    "        #print(data.extended_tweet['full_text'])\n",
    "\n",
    "    def on_error(self, status):\n",
    "        print(status)"
   ]
  },
  {
   "cell_type": "code",
   "execution_count": null,
   "metadata": {},
   "outputs": [
    {
     "name": "stdout",
     "output_type": "stream",
     "text": [
      "420\n",
      "420\n"
     ]
    }
   ],
   "source": [
    "if __name__ == '__main__':\n",
    "    listener = PrintListener()\n",
    "    text = \"jalan\"\n",
    "    # Show system message\n",
    "    print('Collect tweet with : '+text+'! ==>')\n",
    "\n",
    "    # Authenticate\n",
    "    auth = tweepy.OAuthHandler(consumer_key, consumer_secret)\n",
    "    auth.set_access_token(access_token, access_token_secret)\n",
    "\n",
    "    # Connect the stream to our listener\n",
    "    stream = tweepy.Stream(auth, listener)\n",
    "    stream.filter(track=[text],async=True)"
   ]
  },
  {
   "cell_type": "code",
   "execution_count": null,
   "metadata": {
    "collapsed": true
   },
   "outputs": [],
   "source": []
  }
 ],
 "metadata": {
  "kernelspec": {
   "display_name": "Python 3",
   "language": "python",
   "name": "python3"
  },
  "language_info": {
   "codemirror_mode": {
    "name": "ipython",
    "version": 3
   },
   "file_extension": ".py",
   "mimetype": "text/x-python",
   "name": "python",
   "nbconvert_exporter": "python",
   "pygments_lexer": "ipython3",
   "version": "3.6.3"
  }
 },
 "nbformat": 4,
 "nbformat_minor": 2
}
